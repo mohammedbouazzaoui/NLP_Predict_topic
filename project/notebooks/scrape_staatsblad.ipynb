{
 "cells": [
  {
   "cell_type": "markdown",
   "metadata": {},
   "source": [
    "# scraper tool\n",
    "\n",
    "input  : the KPMG xlsx file '../data/KPMG Tax Case - Data Set.xlsx'\n",
    "\n",
    "output : a pickle file '../data/Staatsblad_nl_fr.pkl' containing a pandas dataframe with the documents in the rows 'cleanednl' and 'cleanedfr'"
   ]
  },
  {
   "cell_type": "code",
   "execution_count": null,
   "metadata": {},
   "outputs": [],
   "source": [
    "from bs4 import BeautifulSoup\n",
    "from selenium import webdriver\n",
    "from time import sleep\n",
    "from random import randrange\n",
    "import pandas as pd\n",
    "import html2text\n",
    "\n",
    "df=pd.read_excel(\"../data/KPMG Tax Case - Data Set.xlsx\")\n",
    "\n",
    "df['cleantextnl']=''\n",
    "df['cleantextfr']=''\n",
    "pnt=0\n",
    "for language in ['fr','nl']\n",
    "    \n",
    "    for url in df['Link NL']:\n",
    "        htmllanguage='language='+language\n",
    "        url=url.replace('language=nl',htmllanguage)\n",
    "        url2='view-source:'+url\n",
    "        url2=url2.replace('.pl?','_body.pl?')\n",
    "        driver = webdriver.Firefox()\n",
    "        driver.get(url2)\n",
    "        #simulate human \n",
    "        #rnd=randrange(1,2)\n",
    "        #sleep(rnd)\n",
    "        page=driver.page_source\n",
    "        driver.close()\n",
    "\n",
    "        soup = BeautifulSoup(page, \"html\").text\n",
    "\n",
    "        dummy=html2text.html2text(soup)\n",
    "        dummy=dummy.split('---|---|---|---|---|---')\n",
    "        \n",
    "        dummy=dummy[1].split('begin |  |  eerste woord |  laatste woord |  |')\n",
    "        cleantext=dummy[0]\n",
    "        #print(cleantext)\n",
    "        #save \n",
    "        txtlabel='cleantext'+language\n",
    "        df[txtlabel][pnt]=cleantext\n",
    "        pnt+=1\n",
    "        print(\"scraping :\",pnt,url)\n",
    "        df.to_pickle(\"../data/Staatsblad.pkl\")  \n",
    "       \n",
    "df.to_pickle(\"../data/Staatsblad_nl_fr.pkl\")  \n",
    "print(\"DONE\")"
   ]
  }
 ],
 "metadata": {
  "interpreter": {
   "hash": "f76d795eeeb227e2159e85f1e474be6be927cb377d2f5f811780d197b385e423"
  },
  "kernelspec": {
   "display_name": "Python 3.9.13 ('venv': venv)",
   "language": "python",
   "name": "python3"
  },
  "language_info": {
   "codemirror_mode": {
    "name": "ipython",
    "version": 3
   },
   "file_extension": ".py",
   "mimetype": "text/x-python",
   "name": "python",
   "nbconvert_exporter": "python",
   "pygments_lexer": "ipython3",
   "version": "3.9.13"
  }
 },
 "nbformat": 4,
 "nbformat_minor": 2
}
