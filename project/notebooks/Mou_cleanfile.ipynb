{
 "cells": [
  {
   "cell_type": "code",
   "execution_count": 19,
   "metadata": {},
   "outputs": [
    {
     "data": {
      "text/plain": [
       "'  \\nBRUSSELS HOOFDSTEDELIJK GEWEST  \\n---  \\n  \\n### _8 JANUARI 2020. - Ministerieel besluit tot vaststelling van de modellen\\nvan formulier bedoeld in artikel 8, § 1 van het besluit van de Brusselse\\nHoofdstedelijke Regering van 19 januari 2017 tot vaststelling van de\\nmodaliteiten van het gunstregime toepasselijk op de successierechten bij\\noverdracht van familiale ondernemingen en familiale vennootschappen _\\n\\n  \\n  \\nDe Minister van de Brusselse Hoofdstedelijke Regering, belast met Financiën en\\nBegroting,  \\nGelet op het Wetboek der Successierechten, artikel 60bis/2, § 1, ingevoegd\\ndoor de ordonnantie van 12 december 2016 houdende het tweede deel van de\\nfiscale hervorming;  \\nGelet op het besluit van de Brusselse Hoofdstedelijke Regering van 19 januari\\n2017 tot vaststelling van de modaliteiten van het gunstregime toepasselijk op\\nde successierechten bij overdracht van familiale ondernemingen en familiale\\nvennootschappen, artikel 8;  \\nGelet op de gelijkekansentest uitgevoerd in toepassing van artikel 2 van de\\nordonnantie van 4 oktober 2018 tot invoering van de gelijkekansentest;  \\nOverwegende dat artikel 8 van bovengenoemd besluit stelt dat de Minister van\\nde Brusselse Hoofdstedelijke Regering, belast met Financiën en Begroting,\\nbevoegd is om het formulier dat bedoeld is om na te gaan of de voorwaarden\\nvoor het behoud van de het fiscale gunstregime, dat werd bekomen in het kader\\nvan de overdracht van een familiale onderneming of een familiale vennootschap,\\nvervuld zijn gebleven tot het einde van de driejarige periode die aanving bij\\nhet overlijden van de decujus, zoals bedoeld in artikel 60bis/2, § 1, van het\\nWetboek der Successierechten;  \\nOverwegende dat dit ministerieel besluit geen reglementaire voorschriften\\nbevat in de zin van artikel 3, § 1, eerste lid, van de gecoördineerde wetten\\nvan de Raad van State van 12 januari 1973, is het niet onderworpen aan het\\nadvies van de Raad van State, afdeling Wetgeving,  \\nBesluit :  \\nArtikel 1. Het formulier dat bedoeld is om na te gaan of de voorwaarden voor\\nhet behoud van de het fiscale gunstregime, dat werd bekomen in het kader van\\nde overdracht van een familiale onderneming, vervuld zijn gebleven tot het\\neinde van de driejarige periode die aanving bij het overlijden van de decujus,\\nzoals bedoeld in artikel 60bis/2, § 1 van het Wetboek der Successierechten, is\\nhernomen in bijlage 1 van dit besluit.  \\nArt. 2. Het formulier dat bedoeld is om na te gaan of de voorwaarden voor het\\nbehoud van het fiscale gunstregime, dat werd bekomen in het kader van het\\noverdracht van een familiale vennootschap, vervuld zijn gebleven tot het einde\\nvan de driejarige periode die aanving bij het overlijden van de decujus, zoals\\nbedoeld in artikel 60bis/2, § 1 van het Wetboek der Successierechten, is\\nhernomen in bijlage 2 bij dit besluit.  \\nArt. 3. Dit besluit heeft uitwerking met ingang van 1 januari 2020.  \\nBrussel, 8 januari 2020.  \\nDe Minister van de Brusselse Hoofdstedelijke Regering, belast met Financiën,\\nBegroting, Openbaar ambt en de Promotie van Meertaligheid,  \\nS. GATZ  \\n  \\nVoor de raadpleging van de tabel, zie beeld  \\n  \\n  \\n'"
      ]
     },
     "execution_count": 19,
     "metadata": {},
     "output_type": "execute_result"
    }
   ],
   "source": [
    "import pandas as pd\n",
    "import spacy\n",
    "# Load the model\n",
    "nlp = spacy.load(\"nl_core_news_sm\") #TO COMPLETE\n",
    "\n",
    "df = pd.read_excel(\"../data/KPMG Tax Case - Data Set.xlsx\")\n",
    "df_all2 = pd.read_pickle(\"../data/Staatsblad_nl_fr.pkl\")\n",
    "#df_all2.head(10)\n",
    "df_all2['cleantextnl'][0]"
   ]
  },
  {
   "cell_type": "code",
   "execution_count": 20,
   "metadata": {},
   "outputs": [
    {
     "data": {
      "text/plain": [
       "926"
      ]
     },
     "execution_count": 20,
     "metadata": {},
     "output_type": "execute_result"
    }
   ],
   "source": [
    "len(df_all2)"
   ]
  },
  {
   "cell_type": "code",
   "execution_count": 37,
   "metadata": {},
   "outputs": [
    {
     "data": {
      "text/plain": [
       "'#. Tokenize this document with SpaCy:\\ntext=(df_all2[\\'cleantextnl\\'][0])\\nimport spacy\\n\\n# Load the model\\nnlp = spacy.load(\"nl_core_news_sm\") #TO COMPLETE\\n\\n# Store the tokens in doc\\n\\ndoc = nlp(text) #TO COMPLETE'"
      ]
     },
     "execution_count": 37,
     "metadata": {},
     "output_type": "execute_result"
    }
   ],
   "source": [
    "#list_of_text=df_all2['cleantextnl'].tolist()\n",
    "#print()\n",
    "\n",
    "'''#. Tokenize this document with SpaCy:\n",
    "text=(df_all2['cleantextnl'][0])\n",
    "import spacy\n",
    "\n",
    "# Load the model\n",
    "nlp = spacy.load(\"nl_core_news_sm\") #TO COMPLETE\n",
    "\n",
    "# Store the tokens in doc\n",
    "\n",
    "doc = nlp(text) #TO COMPLETE'''\n"
   ]
  },
  {
   "cell_type": "code",
   "execution_count": 17,
   "metadata": {},
   "outputs": [],
   "source": [
    "months={'nl':['januari','februari','maart','april','mei','juni','augustus','september','oktober','november','december'],'fr':['janvier','fevrier','mars','avril','mai','juin','juillet','aout','septembre','octobre','decembre']}\n",
    "days={'nl':['maandag','dinsdag','woensdag','donderdag','vrijdag','zaterdag','zondag']}\n",
    "\n",
    "#. Tokenize this document with SpaCy:\n",
    "#df_all2=df_all2.head(10)\n",
    "for index,row in df_all2.iterrows():\n",
    "    \n",
    "    text=(row['cleantextnl'])\n",
    "    #print(text)\n",
    "    doc = nlp(text)\n",
    "    stopwords = nlp.Defaults.stop_words\n",
    "    New_doc=''\n",
    "    doc1=[]\n",
    "    for token in doc:     \n",
    "        if token in stopwords:         \n",
    "            continue     \n",
    "        if (token.is_punct or token.is_space or token.is_stop):         \n",
    "            continue     \n",
    "        if token.text.isdecimal():         \n",
    "            continue     \n",
    "        if True in [char.isdigit() for char in token.text]:         \n",
    "            continue     \n",
    "        if token.text[-1] == '.':         \n",
    "            continue     \n",
    "        if len(token.text) <= 2:         \n",
    "            continue      \n",
    "        if  token.text in months['nl']:\n",
    "            continue\n",
    "        if  token.text in days['nl']:\n",
    "            continue\n",
    "        #pass only nouns\n",
    "        if token.pos_ != 'NOUN':\n",
    "            continue\n",
    "        doc1.append(token.lemma_.lower())     # using lammatization \n",
    "        New_doc=' '.join(map(str,doc1))   \n",
    "        #print(New_doc)\n",
    "    df_all2['Final_text']=New_doc\n",
    "#print(New_doc)\n",
    "   "
   ]
  },
  {
   "cell_type": "code",
   "execution_count": 22,
   "metadata": {},
   "outputs": [
    {
     "name": "stderr",
     "output_type": "stream",
     "text": [
      "/tmp/ipykernel_5798/2125371236.py:35: SettingWithCopyWarning: \n",
      "A value is trying to be set on a copy of a slice from a DataFrame\n",
      "\n",
      "See the caveats in the documentation: https://pandas.pydata.org/pandas-docs/stable/user_guide/indexing.html#returning-a-view-versus-a-copy\n",
      "  df_all2['Final_text'][loop]=New_doc\n"
     ]
    }
   ],
   "source": [
    "months={'nl':['januari','februari','maart','april','mei','juni','augustus','september','oktober','november','december'],'fr':['janvier','fevrier','mars','avril','mai','juin','juillet','aout','septembre','octobre','decembre']}\n",
    "days={'nl':['maandag','dinsdag','woensdag','donderdag','vrijdag','zaterdag','zondag']}\n",
    "\n",
    "#. Tokenize this document with SpaCy:\n",
    "\n",
    "for loop in range(len(df_all2)):\n",
    "    txt=df_all2['cleantextnl'][loop]\n",
    "    doc = nlp(txt)\n",
    "    stopwords = nlp.Defaults.stop_words\n",
    "    New_doc=''\n",
    "    doc1=[]\n",
    "    for token in doc:     \n",
    "        if token in stopwords:         \n",
    "            continue     \n",
    "        if (token.is_punct or token.is_space or token.is_stop):         \n",
    "            continue     \n",
    "        if token.text.isdecimal():         \n",
    "            continue     \n",
    "        if True in [char.isdigit() for char in token.text]:         \n",
    "            continue     \n",
    "        if token.text[-1] == '.':         \n",
    "            continue     \n",
    "        if len(token.text) <= 2:         \n",
    "            continue      \n",
    "        if  token.text in months['nl']:\n",
    "            continue\n",
    "        if  token.text in days['nl']:\n",
    "            continue\n",
    "        #pass only nouns\n",
    "        if token.pos_ != 'NOUN':\n",
    "             continue\n",
    "        doc1.append(token.lemma_.lower())     # using lammatization \n",
    "        New_doc=' '.join(map(str,doc1))   \n",
    "        #print(New_doc)\n",
    "    df_all2['Final_text'][loop]=New_doc\n",
    "#print(New_doc)\n",
    "   "
   ]
  },
  {
   "cell_type": "code",
   "execution_count": 25,
   "metadata": {},
   "outputs": [
    {
     "data": {
      "text/plain": [
       "'besluit verlenging maatregel tewerkstelling sector gevolg koning besluit_wet zekerheid arbeider artikel lid wet wet wet wet machtiging koning maatregel strijd verspreiding artikel uitvoering artikel wet machtiging koning maatregel strijd verspreiding coronavirus vrijwaring arbeid_organisatie sector besluit voorwaarde bedrijfstoeslag sector degressiviteit werkloosheidsuitkering advies inspecteur financiën akkoordbevinding minister wet beheer instelling nut zekerheid voorzorg artikel artikel wet vereenvoudiging besluit regelgevingsimpactanalyse advies toepassing artikel lid wet noodzakelijkheid feit grond_gebied maatregel risico volksgezondheid arbeids_recht -pandemie gevolg maatregel vrijwaring sector land artikel besluit voorwaarde bedrijfstoeslag sector degressiviteit werkloosheidsuitkering hoofdstuk bijzondere-machtenbesluit uitvoering artikel wet machtiging koning maatregel strijd verspreiding coronavirus vrijwaring arbeid_organisatie sector maatregel werknemer bedrijfstoeslag tewerkstelling sector maand maand nood tewerkstelling sector voordracht minister werk advies minister artikel afwijking artikel lid uitvoering artikel wet machtiging koning maatregel strijd verspreiding vrijwaring arbeid_organisatie sector hoofdstuk bijzondere-machtenbesluit werking besluit voorwaarde bedrijfstoeslag sector degressiviteit werkloosheidsuitkering artikel woord woord besluit uitwerking ingang minister werk uitvoering besluit minister werk'"
      ]
     },
     "execution_count": 25,
     "metadata": {},
     "output_type": "execute_result"
    }
   ],
   "source": [
    "df_all2['Final_text'][189]"
   ]
  },
  {
   "cell_type": "code",
   "execution_count": 26,
   "metadata": {},
   "outputs": [],
   "source": [
    "df_all2.to_pickle(\"../data/Final-File.pkl\")"
   ]
  }
 ],
 "metadata": {
  "interpreter": {
   "hash": "8b176d992100984cd95a45b04f997eae62c3cc8f1cb2dbcbcd0590c01d60adf7"
  },
  "kernelspec": {
   "display_name": "Python 3.9.7 ('base')",
   "language": "python",
   "name": "python3"
  },
  "language_info": {
   "codemirror_mode": {
    "name": "ipython",
    "version": 3
   },
   "file_extension": ".py",
   "mimetype": "text/x-python",
   "name": "python",
   "nbconvert_exporter": "python",
   "pygments_lexer": "ipython3",
   "version": "3.9.7"
  },
  "orig_nbformat": 4
 },
 "nbformat": 4,
 "nbformat_minor": 2
}
